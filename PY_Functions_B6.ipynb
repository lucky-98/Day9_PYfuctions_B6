{
 "cells": [
  {
   "cell_type": "code",
   "execution_count": 1,
   "metadata": {},
   "outputs": [
    {
     "name": "stdout",
     "output_type": "stream",
     "text": [
      "hello python\n"
     ]
    }
   ],
   "source": [
    "def my_function():\n",
    "    print(\"hello python\")\n",
    "\n",
    "my_function()"
   ]
  },
  {
   "cell_type": "code",
   "execution_count": 2,
   "metadata": {},
   "outputs": [
    {
     "name": "stdout",
     "output_type": "stream",
     "text": [
      "maheeis my bestfriend\n",
      "shivaniis my bestfriend\n"
     ]
    }
   ],
   "source": [
    "def my_function(fname):\n",
    "    print(fname + \"is my bestfriend\")\n",
    "    \n",
    "my_function(\"mahee\")\n",
    "my_function(\"shivani\")\n"
   ]
  },
  {
   "cell_type": "code",
   "execution_count": 3,
   "metadata": {},
   "outputs": [],
   "source": [
    "def great_user(username):\n",
    "    \"\"\"Display a greeting massage to the user\"\"\"\n",
    "    print(f\"Hello,{username.title()} how are you\")\n"
   ]
  },
  {
   "cell_type": "code",
   "execution_count": 4,
   "metadata": {},
   "outputs": [
    {
     "name": "stdout",
     "output_type": "stream",
     "text": [
      "Hello,Python how are you\n"
     ]
    }
   ],
   "source": [
    "great_user(\"python\")"
   ]
  },
  {
   "cell_type": "code",
   "execution_count": 7,
   "metadata": {},
   "outputs": [
    {
     "name": "stdout",
     "output_type": "stream",
     "text": [
      "12\n",
      "21\n",
      "27\n"
     ]
    }
   ],
   "source": [
    "def my_function(x):\n",
    "    return 3 * x\n",
    "print(my_function(4))\n",
    "print(my_function(7))\n",
    "print(my_function(9))\n",
    "    "
   ]
  },
  {
   "cell_type": "code",
   "execution_count": 16,
   "metadata": {},
   "outputs": [
    {
     "name": "stdout",
     "output_type": "stream",
     "text": [
      "15\n",
      "9\n"
     ]
    }
   ],
   "source": [
    "def sum_twovalues(a):\n",
    "    return 6 + a\n",
    "print(my_function(5))\n",
    "print(my_function(3))"
   ]
  },
  {
   "cell_type": "code",
   "execution_count": 23,
   "metadata": {},
   "outputs": [
    {
     "name": "stdout",
     "output_type": "stream",
     "text": [
      " my youngest child is Geetha\n"
     ]
    }
   ],
   "source": [
    "def my_function(child1, child2, child3):\n",
    "    print(\" my youngest child is \" + child2.title())\n",
    "    \n",
    "my_function(child1 = \"seetha\", child2 = \"geetha\", child3 = \"reeta\")"
   ]
  },
  {
   "cell_type": "code",
   "execution_count": 31,
   "metadata": {},
   "outputs": [
    {
     "name": "stdout",
     "output_type": "stream",
     "text": [
      "my smallest child is Reetaa\n"
     ]
    }
   ],
   "source": [
    "def my_child(child1, child2, child3):\n",
    "    print(\"my smallest child is \" + child3.title())\n",
    "    \n",
    "my_child(child1 = \"seetha\", child2 = \"geetha\", child3 = \"reetaa\")\n"
   ]
  },
  {
   "cell_type": "code",
   "execution_count": null,
   "metadata": {},
   "outputs": [],
   "source": []
  }
 ],
 "metadata": {
  "kernelspec": {
   "display_name": "Python 3",
   "language": "python",
   "name": "python3"
  },
  "language_info": {
   "codemirror_mode": {
    "name": "ipython",
    "version": 3
   },
   "file_extension": ".py",
   "mimetype": "text/x-python",
   "name": "python",
   "nbconvert_exporter": "python",
   "pygments_lexer": "ipython3",
   "version": "3.7.4"
  }
 },
 "nbformat": 4,
 "nbformat_minor": 2
}
